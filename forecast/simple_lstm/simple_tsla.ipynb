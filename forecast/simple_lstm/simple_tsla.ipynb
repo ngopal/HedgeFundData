{
 "cells": [
  {
   "cell_type": "code",
   "execution_count": 1,
   "metadata": {},
   "outputs": [
    {
     "name": "stderr",
     "output_type": "stream",
     "text": [
      "Using TensorFlow backend.\n"
     ]
    }
   ],
   "source": [
    "from keras.layers.core import Dense, Activation, Dropout\n",
    "from keras.layers.recurrent import LSTM\n",
    "from keras.models import Sequential\n",
    "import lstm, time #helper libraries"
   ]
  },
  {
   "cell_type": "code",
   "execution_count": 2,
   "metadata": {
    "collapsed": true
   },
   "outputs": [],
   "source": [
    "#Step 1 Load Data\n",
    "time_horizon = 5\n",
    "# X_train, y_train, X_test, y_test = lstm.load_data('sp500.csv', 5, True)\n",
    "# X_train, y_train, X_test, y_test = lstm.load_data('btc_open.csv', time_horizon, True) #YES!\n",
    "# X_train, y_train, X_test, y_test = lstm.load_data('tsla_close.csv', time_horizon, True)\n",
    "X_train, y_train, X_test, y_test = lstm.load_data('../../data/files/tsla.csv_open.csv', time_horizon, True)"
   ]
  },
  {
   "cell_type": "code",
   "execution_count": 3,
   "metadata": {},
   "outputs": [
    {
     "name": "stdout",
     "output_type": "stream",
     "text": [
      "compilation time :  0.020435810089111328\n"
     ]
    }
   ],
   "source": [
    "#Step 2 Build Model\n",
    "model = Sequential()\n",
    "\n",
    "model.add(LSTM(\n",
    "    input_dim=1,\n",
    "    output_dim=100,\n",
    "    return_sequences=True))\n",
    "model.add(Dropout(0.2))\n",
    "\n",
    "model.add(LSTM(\n",
    "    100,\n",
    "    return_sequences=False))\n",
    "model.add(Dropout(0.2))\n",
    "\n",
    "model.add(Dense(\n",
    "    output_dim=1))\n",
    "model.add(Activation('linear'))\n",
    "\n",
    "start = time.time()\n",
    "model.compile(loss='mse', optimizer='adam')\n",
    "print('compilation time : ', time.time() - start)"
   ]
  },
  {
   "cell_type": "code",
   "execution_count": 4,
   "metadata": {},
   "outputs": [
    {
     "name": "stdout",
     "output_type": "stream",
     "text": [
      "Train on 1589 samples, validate on 398 samples\n",
      "Epoch 1/100\n",
      "1589/1589 [==============================] - 2s 1ms/step - loss: 0.0047 - val_loss: 0.0040\n",
      "Epoch 2/100\n",
      "1589/1589 [==============================] - 0s 174us/step - loss: 0.0043 - val_loss: 0.0035\n",
      "Epoch 3/100\n",
      "1589/1589 [==============================] - 0s 152us/step - loss: 0.0036 - val_loss: 0.0031\n",
      "Epoch 4/100\n",
      "1589/1589 [==============================] - 0s 152us/step - loss: 0.0031 - val_loss: 0.0028\n",
      "Epoch 5/100\n",
      "1589/1589 [==============================] - 0s 152us/step - loss: 0.0026 - val_loss: 0.0027\n",
      "Epoch 6/100\n",
      "1589/1589 [==============================] - 0s 154us/step - loss: 0.0022 - val_loss: 0.0031\n",
      "Epoch 7/100\n",
      "1589/1589 [==============================] - 0s 152us/step - loss: 0.0024 - val_loss: 0.0030\n",
      "Epoch 8/100\n",
      "1589/1589 [==============================] - 0s 157us/step - loss: 0.0022 - val_loss: 0.0028\n",
      "Epoch 9/100\n",
      "1589/1589 [==============================] - 0s 171us/step - loss: 0.0021 - val_loss: 0.0026\n",
      "Epoch 10/100\n",
      "1589/1589 [==============================] - 0s 161us/step - loss: 0.0021 - val_loss: 0.0023\n",
      "Epoch 11/100\n",
      "1589/1589 [==============================] - 0s 158us/step - loss: 0.0020 - val_loss: 0.0023\n",
      "Epoch 12/100\n",
      "1589/1589 [==============================] - 0s 175us/step - loss: 0.0020 - val_loss: 0.0023\n",
      "Epoch 13/100\n",
      "1589/1589 [==============================] - 0s 159us/step - loss: 0.0019 - val_loss: 0.0022\n",
      "Epoch 14/100\n",
      "1589/1589 [==============================] - 0s 177us/step - loss: 0.0019 - val_loss: 0.0022\n",
      "Epoch 15/100\n",
      "1589/1589 [==============================] - 0s 159us/step - loss: 0.0018 - val_loss: 0.0023\n",
      "Epoch 16/100\n",
      "1589/1589 [==============================] - 0s 165us/step - loss: 0.0018 - val_loss: 0.0021\n",
      "Epoch 17/100\n",
      "1589/1589 [==============================] - 0s 176us/step - loss: 0.0017 - val_loss: 0.0020\n",
      "Epoch 18/100\n",
      "1589/1589 [==============================] - 0s 164us/step - loss: 0.0017 - val_loss: 0.0019\n",
      "Epoch 19/100\n",
      "1589/1589 [==============================] - 0s 203us/step - loss: 0.0016 - val_loss: 0.0018\n",
      "Epoch 20/100\n",
      "1589/1589 [==============================] - 0s 209us/step - loss: 0.0016 - val_loss: 0.0018\n",
      "Epoch 21/100\n",
      "1589/1589 [==============================] - 0s 192us/step - loss: 0.0015 - val_loss: 0.0017\n",
      "Epoch 22/100\n",
      "1589/1589 [==============================] - 0s 162us/step - loss: 0.0015 - val_loss: 0.0017\n",
      "Epoch 23/100\n",
      "1589/1589 [==============================] - 0s 173us/step - loss: 0.0014 - val_loss: 0.0016\n",
      "Epoch 24/100\n",
      "1589/1589 [==============================] - 0s 177us/step - loss: 0.0014 - val_loss: 0.0016\n",
      "Epoch 25/100\n",
      "1589/1589 [==============================] - 0s 159us/step - loss: 0.0014 - val_loss: 0.0015\n",
      "Epoch 26/100\n",
      "1589/1589 [==============================] - 0s 160us/step - loss: 0.0013 - val_loss: 0.0015\n",
      "Epoch 27/100\n",
      "1589/1589 [==============================] - 0s 185us/step - loss: 0.0013 - val_loss: 0.0014\n",
      "Epoch 28/100\n",
      "1589/1589 [==============================] - 0s 203us/step - loss: 0.0013 - val_loss: 0.0013\n",
      "Epoch 29/100\n",
      "1589/1589 [==============================] - 0s 191us/step - loss: 0.0013 - val_loss: 0.0013\n",
      "Epoch 30/100\n",
      "1589/1589 [==============================] - 0s 171us/step - loss: 0.0012 - val_loss: 0.0012\n",
      "Epoch 31/100\n",
      "1589/1589 [==============================] - 0s 174us/step - loss: 0.0012 - val_loss: 0.0012\n",
      "Epoch 32/100\n",
      "1589/1589 [==============================] - 0s 182us/step - loss: 0.0012 - val_loss: 0.0012\n",
      "Epoch 33/100\n",
      "1589/1589 [==============================] - 0s 200us/step - loss: 0.0012 - val_loss: 0.0012\n",
      "Epoch 34/100\n",
      "1589/1589 [==============================] - 0s 219us/step - loss: 0.0012 - val_loss: 0.0011\n",
      "Epoch 35/100\n",
      "1589/1589 [==============================] - 0s 197us/step - loss: 0.0012 - val_loss: 0.0011\n",
      "Epoch 36/100\n",
      "1589/1589 [==============================] - 0s 189us/step - loss: 0.0012 - val_loss: 0.0011\n",
      "Epoch 37/100\n",
      "1589/1589 [==============================] - 0s 157us/step - loss: 0.0012 - val_loss: 0.0011\n",
      "Epoch 38/100\n",
      "1589/1589 [==============================] - 0s 197us/step - loss: 0.0012 - val_loss: 0.0011\n",
      "Epoch 39/100\n",
      "1589/1589 [==============================] - 0s 174us/step - loss: 0.0011 - val_loss: 0.0011\n",
      "Epoch 40/100\n",
      "1589/1589 [==============================] - 0s 181us/step - loss: 0.0011 - val_loss: 0.0011\n",
      "Epoch 41/100\n",
      "1589/1589 [==============================] - 0s 235us/step - loss: 0.0012 - val_loss: 0.0011\n",
      "Epoch 42/100\n",
      "1589/1589 [==============================] - 0s 184us/step - loss: 0.0011 - val_loss: 0.0010\n",
      "Epoch 43/100\n",
      "1589/1589 [==============================] - 0s 181us/step - loss: 0.0011 - val_loss: 0.0010\n",
      "Epoch 44/100\n",
      "1589/1589 [==============================] - 0s 156us/step - loss: 0.0011 - val_loss: 0.0010\n",
      "Epoch 45/100\n",
      "1589/1589 [==============================] - 0s 162us/step - loss: 0.0011 - val_loss: 0.0010\n",
      "Epoch 46/100\n",
      "1589/1589 [==============================] - 0s 187us/step - loss: 0.0011 - val_loss: 0.0011\n",
      "Epoch 47/100\n",
      "1589/1589 [==============================] - 0s 177us/step - loss: 0.0011 - val_loss: 0.0010\n",
      "Epoch 48/100\n",
      "1589/1589 [==============================] - 0s 181us/step - loss: 0.0011 - val_loss: 0.0010\n",
      "Epoch 49/100\n",
      "1589/1589 [==============================] - 0s 179us/step - loss: 0.0011 - val_loss: 0.0010\n",
      "Epoch 50/100\n",
      "1589/1589 [==============================] - 0s 202us/step - loss: 0.0011 - val_loss: 0.0010\n",
      "Epoch 51/100\n",
      "1589/1589 [==============================] - 0s 186us/step - loss: 0.0011 - val_loss: 0.0010\n",
      "Epoch 52/100\n",
      "1589/1589 [==============================] - 0s 175us/step - loss: 0.0011 - val_loss: 0.0010\n",
      "Epoch 53/100\n",
      "1589/1589 [==============================] - 0s 184us/step - loss: 0.0011 - val_loss: 0.0010\n",
      "Epoch 54/100\n",
      "1589/1589 [==============================] - 0s 149us/step - loss: 0.0011 - val_loss: 0.0010\n",
      "Epoch 55/100\n",
      "1589/1589 [==============================] - 0s 170us/step - loss: 0.0011 - val_loss: 0.0010\n",
      "Epoch 56/100\n",
      "1589/1589 [==============================] - 0s 155us/step - loss: 0.0011 - val_loss: 0.0010\n",
      "Epoch 57/100\n",
      "1589/1589 [==============================] - 0s 164us/step - loss: 0.0011 - val_loss: 0.0010\n",
      "Epoch 58/100\n",
      "1589/1589 [==============================] - 0s 173us/step - loss: 0.0011 - val_loss: 0.0010\n",
      "Epoch 59/100\n",
      "1589/1589 [==============================] - 0s 166us/step - loss: 0.0011 - val_loss: 0.0010\n",
      "Epoch 60/100\n",
      "1589/1589 [==============================] - 0s 182us/step - loss: 0.0011 - val_loss: 0.0010\n",
      "Epoch 61/100\n",
      "1589/1589 [==============================] - 0s 177us/step - loss: 0.0011 - val_loss: 0.0010\n",
      "Epoch 62/100\n",
      "1589/1589 [==============================] - 0s 176us/step - loss: 0.0011 - val_loss: 0.0010\n",
      "Epoch 63/100\n",
      "1589/1589 [==============================] - 0s 159us/step - loss: 0.0011 - val_loss: 0.0010\n",
      "Epoch 64/100\n",
      "1589/1589 [==============================] - 0s 161us/step - loss: 0.0011 - val_loss: 0.0010\n",
      "Epoch 65/100\n",
      "1589/1589 [==============================] - 0s 160us/step - loss: 0.0011 - val_loss: 0.0010\n",
      "Epoch 66/100\n",
      "1589/1589 [==============================] - 0s 166us/step - loss: 0.0011 - val_loss: 0.0010\n",
      "Epoch 67/100\n",
      "1589/1589 [==============================] - 0s 160us/step - loss: 0.0011 - val_loss: 0.0010\n",
      "Epoch 68/100\n",
      "1589/1589 [==============================] - 0s 163us/step - loss: 0.0011 - val_loss: 0.0010\n",
      "Epoch 69/100\n",
      "1589/1589 [==============================] - 0s 170us/step - loss: 0.0011 - val_loss: 0.0010\n",
      "Epoch 70/100\n",
      "1589/1589 [==============================] - 0s 152us/step - loss: 0.0011 - val_loss: 0.0010\n",
      "Epoch 71/100\n",
      "1589/1589 [==============================] - 0s 151us/step - loss: 0.0011 - val_loss: 0.0010\n",
      "Epoch 72/100\n",
      "1589/1589 [==============================] - 0s 178us/step - loss: 0.0011 - val_loss: 0.0010\n",
      "Epoch 73/100\n",
      "1589/1589 [==============================] - 0s 178us/step - loss: 0.0011 - val_loss: 0.0010\n",
      "Epoch 74/100\n",
      "1589/1589 [==============================] - 0s 164us/step - loss: 0.0011 - val_loss: 0.0010\n",
      "Epoch 75/100\n",
      "1589/1589 [==============================] - 0s 179us/step - loss: 0.0011 - val_loss: 0.0010\n",
      "Epoch 76/100\n",
      "1589/1589 [==============================] - 0s 172us/step - loss: 0.0011 - val_loss: 0.0010\n",
      "Epoch 77/100\n",
      "1589/1589 [==============================] - 0s 158us/step - loss: 0.0011 - val_loss: 0.0010\n"
     ]
    },
    {
     "name": "stdout",
     "output_type": "stream",
     "text": [
      "Epoch 78/100\n",
      "1589/1589 [==============================] - 0s 173us/step - loss: 0.0011 - val_loss: 0.0010\n",
      "Epoch 79/100\n",
      "1589/1589 [==============================] - 0s 163us/step - loss: 0.0011 - val_loss: 0.0011\n",
      "Epoch 80/100\n",
      "1589/1589 [==============================] - 0s 155us/step - loss: 0.0011 - val_loss: 0.0011\n",
      "Epoch 81/100\n",
      "1589/1589 [==============================] - 0s 159us/step - loss: 0.0011 - val_loss: 0.0011\n",
      "Epoch 82/100\n",
      "1589/1589 [==============================] - 0s 170us/step - loss: 0.0011 - val_loss: 0.0010\n",
      "Epoch 83/100\n",
      "1589/1589 [==============================] - 0s 151us/step - loss: 0.0011 - val_loss: 0.0010\n",
      "Epoch 84/100\n",
      "1589/1589 [==============================] - 0s 160us/step - loss: 0.0011 - val_loss: 0.0010\n",
      "Epoch 85/100\n",
      "1589/1589 [==============================] - 0s 153us/step - loss: 0.0011 - val_loss: 0.0010\n",
      "Epoch 86/100\n",
      "1589/1589 [==============================] - 0s 160us/step - loss: 0.0011 - val_loss: 0.0010\n",
      "Epoch 87/100\n",
      "1589/1589 [==============================] - 0s 165us/step - loss: 0.0011 - val_loss: 0.0010\n",
      "Epoch 88/100\n",
      "1589/1589 [==============================] - 0s 149us/step - loss: 0.0011 - val_loss: 0.0010\n",
      "Epoch 89/100\n",
      "1589/1589 [==============================] - 0s 168us/step - loss: 0.0011 - val_loss: 0.0010\n",
      "Epoch 90/100\n",
      "1589/1589 [==============================] - 0s 157us/step - loss: 0.0011 - val_loss: 0.0010\n",
      "Epoch 91/100\n",
      "1589/1589 [==============================] - 0s 161us/step - loss: 0.0011 - val_loss: 0.0010\n",
      "Epoch 92/100\n",
      "1589/1589 [==============================] - 0s 165us/step - loss: 0.0011 - val_loss: 0.0010\n",
      "Epoch 93/100\n",
      "1589/1589 [==============================] - 0s 164us/step - loss: 0.0011 - val_loss: 0.0010\n",
      "Epoch 94/100\n",
      "1589/1589 [==============================] - 0s 160us/step - loss: 0.0011 - val_loss: 0.0010\n",
      "Epoch 95/100\n",
      "1589/1589 [==============================] - 0s 161us/step - loss: 0.0011 - val_loss: 0.0010\n",
      "Epoch 96/100\n",
      "1589/1589 [==============================] - 0s 165us/step - loss: 0.0011 - val_loss: 0.0010\n",
      "Epoch 97/100\n",
      "1589/1589 [==============================] - 0s 161us/step - loss: 0.0011 - val_loss: 0.0010\n",
      "Epoch 98/100\n",
      "1589/1589 [==============================] - 0s 163us/step - loss: 0.0011 - val_loss: 0.0010\n",
      "Epoch 99/100\n",
      "1589/1589 [==============================] - 0s 156us/step - loss: 0.0011 - val_loss: 0.0010\n",
      "Epoch 100/100\n",
      "1589/1589 [==============================] - 0s 167us/step - loss: 0.0011 - val_loss: 0.0010\n"
     ]
    },
    {
     "data": {
      "text/plain": [
       "<keras.callbacks.History at 0x11cb871d0>"
      ]
     },
     "execution_count": 4,
     "metadata": {},
     "output_type": "execute_result"
    }
   ],
   "source": [
    "#Step 3 Train the model\n",
    "model.fit(\n",
    "    X_train,\n",
    "    y_train,\n",
    "    batch_size=512,\n",
    "    nb_epoch=100,\n",
    "    validation_split=0.20)"
   ]
  },
  {
   "cell_type": "code",
   "execution_count": 5,
   "metadata": {},
   "outputs": [
    {
     "name": "stdout",
     "output_type": "stream",
     "text": [
      "44.2 44\n",
      "yo\n"
     ]
    },
    {
     "data": {
      "image/png": "[encoded data removed]",
      "text/plain": [
       "<Figure size 432x288 with 1 Axes>"
      ]
     },
     "metadata": {},
     "output_type": "display_data"
    }
   ],
   "source": [
    "#Step 4 - Plot the predictions!\n",
    "predictions = lstm.predict_sequences_multiple(model, X_test, time_horizon, time_horizon)\n",
    "lstm.plot_results_multiple(predictions, y_test, time_horizon)"
   ]
  },
  {
   "cell_type": "code",
   "execution_count": 6,
   "metadata": {
    "collapsed": true
   },
   "outputs": [],
   "source": [
    "# model.save('good_model.h5')"
   ]
  },
  {
   "cell_type": "markdown",
   "metadata": {},
   "source": [
    "# Making Prediction for next timestep"
   ]
  },
  {
   "cell_type": "code",
   "execution_count": 7,
   "metadata": {},
   "outputs": [
    {
     "name": "stdout",
     "output_type": "stream",
     "text": [
      "1.0 1\n",
      "yo\n"
     ]
    },
    {
     "data": {
      "image/png": "[encoded data removed]",
      "text/plain": [
       "<Figure size 432x288 with 1 Axes>"
      ]
     },
     "metadata": {},
     "output_type": "display_data"
    }
   ],
   "source": [
    "predictions_r = lstm.predict_sequences_multiple(model, X_test[-6:-1], time_horizon, time_horizon)\n",
    "lstm.plot_results_multiple(predictions_r, predictions_r, time_horizon)"
   ]
  },
  {
   "cell_type": "code",
   "execution_count": null,
   "metadata": {
    "collapsed": true
   },
   "outputs": [],
   "source": []
  }
 ],
 "metadata": {
  "kernelspec": {
   "display_name": "Python 3",
   "language": "python",
   "name": "python3"
  },
  "language_info": {
   "codemirror_mode": {
    "name": "ipython",
    "version": 3
   },
   "file_extension": ".py",
   "mimetype": "text/x-python",
   "name": "python",
   "nbconvert_exporter": "python",
   "pygments_lexer": "ipython3",
   "version": "3.6.7"
  }
 },
 "nbformat": 4,
 "nbformat_minor": 2
}
