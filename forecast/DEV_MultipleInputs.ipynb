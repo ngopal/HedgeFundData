{
 "cells": [
  {
   "cell_type": "code",
   "execution_count": 115,
   "metadata": {},
   "outputs": [],
   "source": [
    "import keras\n",
    "import pandas as pd\n",
    "import numpy as np\n",
    "from keras.layers import *\n",
    "from keras.activations import *\n",
    "from keras.callbacks import *\n",
    "from keras.models import *"
   ]
  },
  {
   "cell_type": "code",
   "execution_count": 116,
   "metadata": {},
   "outputs": [
    {
     "data": {
      "text/html": [
       "<div>\n",
       "<style scoped>\n",
       "    .dataframe tbody tr th:only-of-type {\n",
       "        vertical-align: middle;\n",
       "    }\n",
       "\n",
       "    .dataframe tbody tr th {\n",
       "        vertical-align: top;\n",
       "    }\n",
       "\n",
       "    .dataframe thead th {\n",
       "        text-align: right;\n",
       "    }\n",
       "</style>\n",
       "<table border=\"1\" class=\"dataframe\">\n",
       "  <thead>\n",
       "    <tr style=\"text-align: right;\">\n",
       "      <th></th>\n",
       "      <th>Index</th>\n",
       "      <th>QQQ.Open</th>\n",
       "      <th>QQQ.High</th>\n",
       "      <th>QQQ.Low</th>\n",
       "      <th>QQQ.Close</th>\n",
       "      <th>QQQ.Volume</th>\n",
       "      <th>QQQ.Adjusted</th>\n",
       "      <th>TSLA.Open</th>\n",
       "      <th>TSLA.High</th>\n",
       "      <th>TSLA.Low</th>\n",
       "      <th>...</th>\n",
       "      <th>TNX.Low</th>\n",
       "      <th>TNX.Close</th>\n",
       "      <th>TNX.Volume</th>\n",
       "      <th>TNX.Adjusted</th>\n",
       "      <th>RYSDX.Open</th>\n",
       "      <th>RYSDX.High</th>\n",
       "      <th>RYSDX.Low</th>\n",
       "      <th>RYSDX.Close</th>\n",
       "      <th>RYSDX.Volume</th>\n",
       "      <th>RYSDX.Adjusted</th>\n",
       "    </tr>\n",
       "  </thead>\n",
       "  <tbody>\n",
       "    <tr>\n",
       "      <th>3095</th>\n",
       "      <td>2019-04-22</td>\n",
       "      <td>186.570007</td>\n",
       "      <td>187.990005</td>\n",
       "      <td>186.429993</td>\n",
       "      <td>187.919998</td>\n",
       "      <td>17936000</td>\n",
       "      <td>187.919998</td>\n",
       "      <td>269.000000</td>\n",
       "      <td>269.679993</td>\n",
       "      <td>262.480011</td>\n",
       "      <td>...</td>\n",
       "      <td>1.14</td>\n",
       "      <td>1.23</td>\n",
       "      <td>47944</td>\n",
       "      <td>1.23</td>\n",
       "      <td>52.619999</td>\n",
       "      <td>52.619999</td>\n",
       "      <td>52.619999</td>\n",
       "      <td>52.619999</td>\n",
       "      <td>0</td>\n",
       "      <td>52.619999</td>\n",
       "    </tr>\n",
       "    <tr>\n",
       "      <th>3096</th>\n",
       "      <td>2019-04-23</td>\n",
       "      <td>188.399994</td>\n",
       "      <td>190.539993</td>\n",
       "      <td>188.130005</td>\n",
       "      <td>190.309998</td>\n",
       "      <td>33665600</td>\n",
       "      <td>190.309998</td>\n",
       "      <td>260.149994</td>\n",
       "      <td>265.600006</td>\n",
       "      <td>255.750000</td>\n",
       "      <td>...</td>\n",
       "      <td>1.19</td>\n",
       "      <td>1.19</td>\n",
       "      <td>16650</td>\n",
       "      <td>1.19</td>\n",
       "      <td>52.950001</td>\n",
       "      <td>52.950001</td>\n",
       "      <td>52.950001</td>\n",
       "      <td>52.950001</td>\n",
       "      <td>0</td>\n",
       "      <td>52.950001</td>\n",
       "    </tr>\n",
       "    <tr>\n",
       "      <th>3097</th>\n",
       "      <td>2019-04-24</td>\n",
       "      <td>190.470001</td>\n",
       "      <td>190.710007</td>\n",
       "      <td>189.649994</td>\n",
       "      <td>189.710007</td>\n",
       "      <td>24977100</td>\n",
       "      <td>189.710007</td>\n",
       "      <td>263.850006</td>\n",
       "      <td>265.320007</td>\n",
       "      <td>258.000000</td>\n",
       "      <td>...</td>\n",
       "      <td>1.13</td>\n",
       "      <td>1.19</td>\n",
       "      <td>30603</td>\n",
       "      <td>1.19</td>\n",
       "      <td>53.509998</td>\n",
       "      <td>53.509998</td>\n",
       "      <td>53.509998</td>\n",
       "      <td>53.509998</td>\n",
       "      <td>0</td>\n",
       "      <td>53.509998</td>\n",
       "    </tr>\n",
       "    <tr>\n",
       "      <th>3098</th>\n",
       "      <td>2019-04-25</td>\n",
       "      <td>191.130005</td>\n",
       "      <td>191.220001</td>\n",
       "      <td>189.449997</td>\n",
       "      <td>190.479996</td>\n",
       "      <td>29517500</td>\n",
       "      <td>190.479996</td>\n",
       "      <td>255.000000</td>\n",
       "      <td>259.000000</td>\n",
       "      <td>246.070007</td>\n",
       "      <td>...</td>\n",
       "      <td>1.12</td>\n",
       "      <td>1.15</td>\n",
       "      <td>9100</td>\n",
       "      <td>1.15</td>\n",
       "      <td>53.660000</td>\n",
       "      <td>53.660000</td>\n",
       "      <td>53.660000</td>\n",
       "      <td>53.660000</td>\n",
       "      <td>0</td>\n",
       "      <td>53.660000</td>\n",
       "    </tr>\n",
       "    <tr>\n",
       "      <th>3099</th>\n",
       "      <td>2019-04-26</td>\n",
       "      <td>190.179993</td>\n",
       "      <td>190.690002</td>\n",
       "      <td>188.589996</td>\n",
       "      <td>190.649994</td>\n",
       "      <td>26353500</td>\n",
       "      <td>190.649994</td>\n",
       "      <td>246.500000</td>\n",
       "      <td>246.679993</td>\n",
       "      <td>231.130005</td>\n",
       "      <td>...</td>\n",
       "      <td>1.13</td>\n",
       "      <td>1.15</td>\n",
       "      <td>12270</td>\n",
       "      <td>1.15</td>\n",
       "      <td>53.490002</td>\n",
       "      <td>53.490002</td>\n",
       "      <td>53.490002</td>\n",
       "      <td>53.490002</td>\n",
       "      <td>0</td>\n",
       "      <td>53.490002</td>\n",
       "    </tr>\n",
       "  </tbody>\n",
       "</table>\n",
       "<p>5 rows × 199 columns</p>\n",
       "</div>"
      ],
      "text/plain": [
       "           Index    QQQ.Open    QQQ.High     QQQ.Low   QQQ.Close  QQQ.Volume  \\\n",
       "3095  2019-04-22  186.570007  187.990005  186.429993  187.919998    17936000   \n",
       "3096  2019-04-23  188.399994  190.539993  188.130005  190.309998    33665600   \n",
       "3097  2019-04-24  190.470001  190.710007  189.649994  189.710007    24977100   \n",
       "3098  2019-04-25  191.130005  191.220001  189.449997  190.479996    29517500   \n",
       "3099  2019-04-26  190.179993  190.690002  188.589996  190.649994    26353500   \n",
       "\n",
       "      QQQ.Adjusted   TSLA.Open   TSLA.High    TSLA.Low       ...        \\\n",
       "3095    187.919998  269.000000  269.679993  262.480011       ...         \n",
       "3096    190.309998  260.149994  265.600006  255.750000       ...         \n",
       "3097    189.710007  263.850006  265.320007  258.000000       ...         \n",
       "3098    190.479996  255.000000  259.000000  246.070007       ...         \n",
       "3099    190.649994  246.500000  246.679993  231.130005       ...         \n",
       "\n",
       "      TNX.Low  TNX.Close  TNX.Volume  TNX.Adjusted  RYSDX.Open  RYSDX.High  \\\n",
       "3095     1.14       1.23       47944          1.23   52.619999   52.619999   \n",
       "3096     1.19       1.19       16650          1.19   52.950001   52.950001   \n",
       "3097     1.13       1.19       30603          1.19   53.509998   53.509998   \n",
       "3098     1.12       1.15        9100          1.15   53.660000   53.660000   \n",
       "3099     1.13       1.15       12270          1.15   53.490002   53.490002   \n",
       "\n",
       "      RYSDX.Low  RYSDX.Close  RYSDX.Volume  RYSDX.Adjusted  \n",
       "3095  52.619999    52.619999             0       52.619999  \n",
       "3096  52.950001    52.950001             0       52.950001  \n",
       "3097  53.509998    53.509998             0       53.509998  \n",
       "3098  53.660000    53.660000             0       53.660000  \n",
       "3099  53.490002    53.490002             0       53.490002  \n",
       "\n",
       "[5 rows x 199 columns]"
      ]
     },
     "execution_count": 116,
     "metadata": {},
     "output_type": "execute_result"
    }
   ],
   "source": [
    "data = pd.read_csv('../data/files/multiple_concatenated_tickers.csv')\n",
    "data.tail()"
   ]
  },
  {
   "cell_type": "code",
   "execution_count": 120,
   "metadata": {},
   "outputs": [
    {
     "data": {
      "text/plain": [
       "{'AAPL': 24,\n",
       " 'AMD': 66,\n",
       " 'AMZN': 36,\n",
       " 'DATA': 60,\n",
       " 'DIS': 144,\n",
       " 'DUK': 156,\n",
       " 'FB': 42,\n",
       " 'GLD': 174,\n",
       " 'HD': 150,\n",
       " 'INTC': 18,\n",
       " 'JNJ': 102,\n",
       " 'JWN': 90,\n",
       " 'KO': 108,\n",
       " 'MSFT': 12,\n",
       " 'NFLX': 30,\n",
       " 'NVDA': 126,\n",
       " 'PANW': 120,\n",
       " 'PG': 96,\n",
       " 'QQQ': 0,\n",
       " 'RHT': 132,\n",
       " 'RYSDX': 192,\n",
       " 'SBUX': 72,\n",
       " 'SLV': 180,\n",
       " 'SPOT': 162,\n",
       " 'SQ': 48,\n",
       " 'TGT': 84,\n",
       " 'TNX': 186,\n",
       " 'TSLA': 6,\n",
       " 'TWTR': 54,\n",
       " 'USO': 138,\n",
       " 'VRSN': 114,\n",
       " 'WDC': 168,\n",
       " 'WMT': 78}"
      ]
     },
     "execution_count": 120,
     "metadata": {},
     "output_type": "execute_result"
    }
   ],
   "source": [
    "dict([(i[1].split('.')[0], int(i[0])-1) for i in enumerate(list(data.columns)) if 'Open' in i[1]])"
   ]
  },
  {
   "cell_type": "code",
   "execution_count": 103,
   "metadata": {},
   "outputs": [
    {
     "name": "stderr",
     "output_type": "stream",
     "text": [
      "/usr/local/anaconda3/lib/python3.6/site-packages/ipykernel_launcher.py:1: FutureWarning: Method .as_matrix will be removed in a future version. Use .values instead.\n",
      "  \"\"\"Entry point for launching an IPython kernel.\n"
     ]
    }
   ],
   "source": [
    "data_mat = data.iloc[:,1:].as_matrix()"
   ]
  },
  {
   "cell_type": "code",
   "execution_count": 104,
   "metadata": {},
   "outputs": [
    {
     "data": {
      "text/plain": [
       "array([ 43.459999,  43.299999,  43.950001, ..., 190.470001, 191.130005,\n",
       "       190.179993])"
      ]
     },
     "execution_count": 104,
     "metadata": {},
     "output_type": "execute_result"
    }
   ],
   "source": [
    "data_mat[:,0]"
   ]
  },
  {
   "cell_type": "code",
   "execution_count": 105,
   "metadata": {
    "collapsed": true
   },
   "outputs": [],
   "source": [
    "def normalise_windows(window_data):\n",
    "    normalised_data = []\n",
    "    for window in window_data:\n",
    "        normalised_window = [((float(p) / float(window[0])) - 1) for p in window]\n",
    "        normalised_data.append(normalised_window)\n",
    "    return normalised_data"
   ]
  },
  {
   "cell_type": "code",
   "execution_count": 106,
   "metadata": {
    "collapsed": true
   },
   "outputs": [],
   "source": [
    "seq_len = 5\n",
    "data = np.array(normalise_windows(data_mat))"
   ]
  },
  {
   "cell_type": "code",
   "execution_count": 107,
   "metadata": {},
   "outputs": [
    {
     "data": {
      "text/plain": [
       "[array([[[ 0.00000000e+00,  1.17883232e-02, -2.22375450e-04, ...,\n",
       "           8.96353000e-02, -1.00000000e+00,  4.76084530e-02],\n",
       "         [ 0.00000000e+00,  6.14434935e-03, -2.63328944e-03, ...,\n",
       "           6.78077683e-02, -1.00000000e+00,  2.66228440e-02],\n",
       "         [ 0.00000000e+00,  3.50416119e-03, -5.03723171e-03, ...,\n",
       "           5.25624398e-02, -1.00000000e+00,  1.19655059e-02],\n",
       "         [ 0.00000000e+00,  3.94477309e-03, -5.04052148e-03, ...,\n",
       "           6.37738316e-02, -1.00000000e+00,  2.27444659e-02],\n",
       "         [ 0.00000000e+00,  9.76352788e-03, -2.16962465e-03, ...,\n",
       "           5.44586244e-02, -1.00000000e+00,  1.37885225e-02]],\n",
       " \n",
       "        [[ 0.00000000e+00,  1.19782219e-02, -5.44428332e-04, ...,\n",
       "          -1.71324834e-01, -1.00000000e+00, -2.03286523e-01],\n",
       "         [ 0.00000000e+00,  2.86738356e-03, -2.15051975e-03, ...,\n",
       "          -1.69354860e-01, -1.00000000e+00, -2.01392495e-01],\n",
       "         [ 0.00000000e+00,  5.35505177e-04, -1.24955373e-02, ...,\n",
       "          -1.66190664e-01, -1.00000000e+00, -1.98350357e-01],\n",
       "         [ 0.00000000e+00,  7.71300448e-03, -3.04929148e-03, ...,\n",
       "          -1.68071731e-01, -1.00000000e+00, -2.00158906e-01],\n",
       "         [ 0.00000000e+00,  8.87941735e-04, -6.39318049e-03, ...,\n",
       "          -1.77943524e-01, -1.00000000e+00, -2.09649952e-01]],\n",
       " \n",
       "        [[ 0.00000000e+00,  9.27164209e-03, -1.41996324e-03, ...,\n",
       "          -5.30404272e-01, -1.00000000e+00, -5.30404272e-01],\n",
       "         [ 0.00000000e+00,  2.49021331e-03, -1.16210674e-03, ...,\n",
       "          -5.31833639e-01, -1.00000000e+00, -5.31833639e-01],\n",
       "         [ 0.00000000e+00,  6.63366512e-04, -3.39963521e-03, ...,\n",
       "          -5.34825880e-01, -1.00000000e+00, -5.34825880e-01],\n",
       "         [ 0.00000000e+00,  2.49016351e-04, -6.80666550e-03, ...,\n",
       "          -5.33327795e-01, -1.00000000e+00, -5.33327795e-01],\n",
       "         [ 0.00000000e+00,  2.75185128e-03, -9.17278201e-04, ...,\n",
       "          -5.31854570e-01, -1.00000000e+00, -5.31854570e-01]],\n",
       " \n",
       "        ...,\n",
       " \n",
       "        [[ 0.00000000e+00,  4.30568975e-03, -6.61234825e-03, ...,\n",
       "          -3.32000620e-01, -1.00000000e+00, -3.57765114e-01],\n",
       "         [ 0.00000000e+00,  4.00496007e-03, -2.77264334e-03, ...,\n",
       "          -3.33179262e-01, -1.00000000e+00, -3.58898270e-01],\n",
       "         [ 0.00000000e+00,  3.06420463e-04, -1.39442840e-02, ...,\n",
       "          -3.28378782e-01, -1.00000000e+00, -3.54282950e-01],\n",
       "         [ 0.00000000e+00,  1.40360879e-02, -3.27515580e-03, ...,\n",
       "          -3.13630756e-01, -1.00000000e+00, -3.40103743e-01],\n",
       "         [ 0.00000000e+00,  7.03147377e-03, -3.51568338e-03, ...,\n",
       "          -3.43320081e-01, -1.00000000e+00, -3.68647994e-01]],\n",
       " \n",
       "        [[ 0.00000000e+00,  1.64024060e-03, -1.45795519e-03, ...,\n",
       "          -1.56369567e-01, -1.00000000e+00, -1.88908095e-01],\n",
       "         [ 0.00000000e+00,  1.64293541e-03, -3.10328593e-03, ...,\n",
       "          -1.59364735e-01, -1.00000000e+00, -1.91787700e-01],\n",
       "         [ 0.00000000e+00,  5.13006577e-03, -6.77909466e-03, ...,\n",
       "          -1.60681581e-01, -1.00000000e+00, -1.93053804e-01],\n",
       "         [ 0.00000000e+00,  7.28808296e-04, -6.01315587e-03, ...,\n",
       "          -1.64176418e-01, -1.00000000e+00, -1.96413808e-01],\n",
       "         [ 0.00000000e+00,  1.45935790e-03, -1.64173659e-03, ...,\n",
       "          -1.75301003e-01, -1.00000000e+00, -2.07109321e-01]],\n",
       " \n",
       "        [[ 0.00000000e+00,  5.10468214e-03, -3.52052446e-03, ...,\n",
       "          -5.59232524e-01, -1.00000000e+00, -5.59232524e-01],\n",
       "         [ 0.00000000e+00,  1.13287146e-03, -5.66450545e-03, ...,\n",
       "          -5.66884523e-01, -1.00000000e+00, -5.66884523e-01],\n",
       "         [ 0.00000000e+00,  3.04983438e-03, -3.13698147e-03, ...,\n",
       "          -5.67619396e-01, -1.00000000e+00, -5.67619396e-01],\n",
       "         [ 0.00000000e+00,  2.95142369e-03, -2.86453132e-03, ...,\n",
       "          -5.80121526e-01, -1.00000000e+00, -5.80121526e-01],\n",
       "         [ 0.00000000e+00,  7.11125674e-03, -1.21411848e-03, ...,\n",
       "          -5.78614163e-01, -1.00000000e+00, -5.78614163e-01]]]),\n",
       " array([0.0038743 , 0.00230376, 0.00879958, ..., 0.00682434, 0.00018248,\n",
       "        0.00086452]),\n",
       " array([[[ 0.00000000e+00,  3.53824365e-04, -1.03792471e-02, ...,\n",
       "          -7.49071196e-01, -1.00000000e+00, -7.49071196e-01],\n",
       "         [ 0.00000000e+00,  9.80568296e-03, -1.94923512e-03, ...,\n",
       "          -7.49660330e-01, -1.00000000e+00, -7.49660330e-01],\n",
       "         [ 0.00000000e+00,  1.99329886e-03, -4.86604893e-03, ...,\n",
       "          -7.50190542e-01, -1.00000000e+00, -7.50190542e-01],\n",
       "         [ 0.00000000e+00,  5.16164334e-03, -4.33103522e-03, ...,\n",
       "          -7.47908625e-01, -1.00000000e+00, -7.47908625e-01],\n",
       "         [ 0.00000000e+00,  2.00419105e-03, -7.72176862e-03, ...,\n",
       "          -7.50309446e-01, -1.00000000e+00, -7.50309446e-01]],\n",
       " \n",
       "        [[ 0.00000000e+00,  9.80568296e-03, -1.94923512e-03, ...,\n",
       "          -7.49660330e-01, -1.00000000e+00, -7.49660330e-01],\n",
       "         [ 0.00000000e+00,  1.99329886e-03, -4.86604893e-03, ...,\n",
       "          -7.50190542e-01, -1.00000000e+00, -7.50190542e-01],\n",
       "         [ 0.00000000e+00,  5.16164334e-03, -4.33103522e-03, ...,\n",
       "          -7.47908625e-01, -1.00000000e+00, -7.47908625e-01],\n",
       "         [ 0.00000000e+00,  2.00419105e-03, -7.72176862e-03, ...,\n",
       "          -7.50309446e-01, -1.00000000e+00, -7.50309446e-01],\n",
       "         [ 0.00000000e+00,  9.69654933e-03, -4.04525863e-03, ...,\n",
       "          -7.50743602e-01, -1.00000000e+00, -7.50743602e-01]],\n",
       " \n",
       "        [[ 0.00000000e+00,  1.99329886e-03, -4.86604893e-03, ...,\n",
       "          -7.50190542e-01, -1.00000000e+00, -7.50190542e-01],\n",
       "         [ 0.00000000e+00,  5.16164334e-03, -4.33103522e-03, ...,\n",
       "          -7.47908625e-01, -1.00000000e+00, -7.47908625e-01],\n",
       "         [ 0.00000000e+00,  2.00419105e-03, -7.72176862e-03, ...,\n",
       "          -7.50309446e-01, -1.00000000e+00, -7.50309446e-01],\n",
       "         [ 0.00000000e+00,  9.69654933e-03, -4.04525863e-03, ...,\n",
       "          -7.50743602e-01, -1.00000000e+00, -7.50743602e-01],\n",
       "         [ 0.00000000e+00,  2.39087862e-03, -1.69157319e-02, ...,\n",
       "          -7.46264195e-01, -1.00000000e+00, -7.46264195e-01]],\n",
       " \n",
       "        ...,\n",
       " \n",
       "        [[ 0.00000000e+00,  1.23768298e-03, -6.56479244e-03, ...,\n",
       "          -7.19382248e-01, -1.00000000e+00, -7.19382248e-01],\n",
       "         [ 0.00000000e+00,  1.98354784e-03, -3.27007625e-03, ...,\n",
       "          -7.19363139e-01, -1.00000000e+00, -7.19363139e-01],\n",
       "         [ 0.00000000e+00,  9.58684421e-04, -6.12513449e-03, ...,\n",
       "          -7.21544613e-01, -1.00000000e+00, -7.21544613e-01],\n",
       "         [ 0.00000000e+00,  1.76030080e-03, -6.24140593e-03, ...,\n",
       "          -7.18286573e-01, -1.00000000e+00, -7.18286573e-01],\n",
       "         [ 0.00000000e+00,  7.61107331e-03, -7.50463605e-04, ...,\n",
       "          -7.17961103e-01, -1.00000000e+00, -7.17961103e-01]],\n",
       " \n",
       "        [[ 0.00000000e+00,  1.98354784e-03, -3.27007625e-03, ...,\n",
       "          -7.19363139e-01, -1.00000000e+00, -7.19363139e-01],\n",
       "         [ 0.00000000e+00,  9.58684421e-04, -6.12513449e-03, ...,\n",
       "          -7.21544613e-01, -1.00000000e+00, -7.21544613e-01],\n",
       "         [ 0.00000000e+00,  1.76030080e-03, -6.24140593e-03, ...,\n",
       "          -7.18286573e-01, -1.00000000e+00, -7.18286573e-01],\n",
       "         [ 0.00000000e+00,  7.61107331e-03, -7.50463605e-04, ...,\n",
       "          -7.17961103e-01, -1.00000000e+00, -7.17961103e-01],\n",
       "         [ 0.00000000e+00,  1.13588061e-02, -1.43306268e-03, ...,\n",
       "          -7.18949030e-01, -1.00000000e+00, -7.18949030e-01]],\n",
       " \n",
       "        [[ 0.00000000e+00,  9.58684421e-04, -6.12513449e-03, ...,\n",
       "          -7.21544613e-01, -1.00000000e+00, -7.21544613e-01],\n",
       "         [ 0.00000000e+00,  1.76030080e-03, -6.24140593e-03, ...,\n",
       "          -7.18286573e-01, -1.00000000e+00, -7.18286573e-01],\n",
       "         [ 0.00000000e+00,  7.61107331e-03, -7.50463605e-04, ...,\n",
       "          -7.17961103e-01, -1.00000000e+00, -7.17961103e-01],\n",
       "         [ 0.00000000e+00,  1.13588061e-02, -1.43306268e-03, ...,\n",
       "          -7.18949030e-01, -1.00000000e+00, -7.18949030e-01],\n",
       "         [ 0.00000000e+00,  1.26007245e-03, -4.30517665e-03, ...,\n",
       "          -7.19063382e-01, -1.00000000e+00, -7.19063382e-01]]]),\n",
       " array([0.00969655, 0.00239088, 0.01643462, 0.04300107, 0.01087836,\n",
       "        0.00112071, 0.01041004, 0.0142676 , 0.01297789, 0.02633066,\n",
       "        0.00950407, 0.00968752, 0.0139919 , 0.00975313, 0.00531597,\n",
       "        0.0122795 , 0.00852265, 0.0016427 , 0.00324965, 0.00460253,\n",
       "        0.02326153, 0.01846128, 0.00272758, 0.01088196, 0.00206326,\n",
       "        0.0122172 , 0.00466401, 0.00418392, 0.00075317, 0.0042491 ,\n",
       "        0.00221156, 0.00070961, 0.00520425, 0.00926971, 0.00704698,\n",
       "        0.00424329, 0.01780859, 0.00012071, 0.01017893, 0.02283366,\n",
       "        0.00471728, 0.00669346, 0.03897027, 0.00154962, 0.00994462,\n",
       "        0.01835681, 0.00948748, 0.01123597, 0.00942638, 0.00147216,\n",
       "        0.00424617, 0.01351682, 0.00541839, 0.00235507, 0.0007295 ,\n",
       "        0.00392421, 0.00153695, 0.00359073, 0.01138769, 0.00024341,\n",
       "        0.0062165 , 0.01420383, 0.00312774, 0.00869561, 0.02576036,\n",
       "        0.0068824 , 0.00325513, 0.00979747, 0.00783759, 0.00259711,\n",
       "        0.00571093, 0.00053439, 0.00761496, 0.0072451 , 0.00345898,\n",
       "        0.00438496, 0.00165513, 0.01641892, 0.00176941, 0.00471895,\n",
       "        0.00574135, 0.00530719, 0.00599368, 0.01123331, 0.00669825,\n",
       "        0.00240397, 0.00497083, 0.00022738, 0.00731527, 0.005909  ,\n",
       "        0.00485302, 0.0059057 , 0.00713352, 0.00226083, 0.00661   ,\n",
       "        0.01015659, 0.00661726, 0.00101299, 0.00039701, 0.00149663,\n",
       "        0.00616278, 0.00451388, 0.01327277, 0.00529041, 0.0165256 ,\n",
       "        0.        , 0.00668951, 0.0139626 , 0.00402216, 0.00112662,\n",
       "        0.00647993, 0.01275401, 0.00250765, 0.00166993, 0.01900945,\n",
       "        0.00083204, 0.00334675, 0.00306204, 0.00661208, 0.00352791,\n",
       "        0.01413676, 0.00321616, 0.00066227, 0.00056292, 0.00756543,\n",
       "        0.00446677, 0.02200495, 0.00122311, 0.00683482, 0.00269752,\n",
       "        0.00440652, 0.00395801, 0.00298875, 0.00624718, 0.00359101,\n",
       "        0.00316653, 0.002104  , 0.00535262, 0.00038837, 0.00665777,\n",
       "        0.00716751, 0.00724797, 0.00678066, 0.00512542, 0.00102798,\n",
       "        0.01032825, 0.00611653, 0.00537115, 0.00171965, 0.0001617 ,\n",
       "        0.00119872, 0.01202215, 0.00054903, 0.01342612, 0.00071091,\n",
       "        0.00631398, 0.00157042, 0.00070778, 0.01234223, 0.00235144,\n",
       "        0.00549029, 0.00140371, 0.01049164, 0.00255699, 0.00916984,\n",
       "        0.00794509, 0.00523448, 0.00353189, 0.00628997, 0.00235888,\n",
       "        0.000648  , 0.00334503, 0.00623883, 0.01026907, 0.00061621,\n",
       "        0.01391644, 0.00396166, 0.00189964, 0.02085961, 0.00101074,\n",
       "        0.0003397 , 0.0085348 , 0.00683673, 0.02045245, 0.00167559,\n",
       "        0.02483472, 0.02881362, 0.00384134, 0.02021501, 0.01559723,\n",
       "        0.01275944, 0.00594651, 0.00035376, 0.01313843, 0.01915488,\n",
       "        0.00309   , 0.00243012, 0.00187877, 0.01418225, 0.00344993,\n",
       "        0.02207398, 0.01117453, 0.00119974, 0.01900619, 0.00384255,\n",
       "        0.01100006, 0.0094772 , 0.01141979, 0.02478436, 0.00755991,\n",
       "        0.00647343, 0.00115532, 0.00280004, 0.02789752, 0.00577751,\n",
       "        0.01676184, 0.0002414 , 0.00963859, 0.00415339, 0.00367619,\n",
       "        0.00798054, 0.00819416, 0.01605771, 0.01115797, 0.00679512,\n",
       "        0.01300653, 0.05141984, 0.01868723, 0.00934156, 0.00375649,\n",
       "        0.03152523, 0.00498357, 0.0305895 , 0.01430217, 0.00357282,\n",
       "        0.00861749, 0.01109016, 0.00330568, 0.00395409, 0.01625004,\n",
       "        0.00694746, 0.01563368, 0.00752522, 0.00048763, 0.00454624,\n",
       "        0.0046718 , 0.00692966, 0.00061337, 0.00024515, 0.01762549,\n",
       "        0.0137373 , 0.00758982, 0.01224029, 0.00865929, 0.0017536 ,\n",
       "        0.00248475, 0.01097386, 0.00242362, 0.00890169, 0.00297122,\n",
       "        0.00839207, 0.00023182, 0.00810921, 0.00394436, 0.00273591,\n",
       "        0.00593052, 0.00258307, 0.00699264, 0.00520537, 0.00439177,\n",
       "        0.00120381, 0.00142418, 0.00309363, 0.0001717 , 0.00034657,\n",
       "        0.01032388, 0.0172795 , 0.00542267, 0.00753107, 0.00118552,\n",
       "        0.00834279, 0.00584438, 0.00457644, 0.01005251, 0.02014285,\n",
       "        0.00269559, 0.00522732, 0.00606902, 0.00223062, 0.00347609,\n",
       "        0.00077912, 0.004132  , 0.00367647, 0.0063126 , 0.00364466,\n",
       "        0.00287668, 0.00499023, 0.00330624, 0.004385  , 0.        ,\n",
       "        0.00053802, 0.00123768, 0.00198355, 0.00095868, 0.0017603 ,\n",
       "        0.00761107, 0.01135881, 0.00126007, 0.00047086])]"
      ]
     },
     "execution_count": 107,
     "metadata": {},
     "output_type": "execute_result"
    }
   ],
   "source": [
    "sequence_length = seq_len + 1\n",
    "result = []\n",
    "for index in range(len(data) - sequence_length):\n",
    "    result.append(data[index: index + sequence_length])\n",
    "\n",
    "# if normalise_window:\n",
    "#     result = normalise_windows(result)\n",
    "\n",
    "result = np.array(result)\n",
    "\n",
    "row = round(0.9 * result.shape[0])\n",
    "train = result[:int(row), :]\n",
    "np.random.shuffle(train)\n",
    "x_train = train[:, :-1]\n",
    "y_train = train[:, -1]\n",
    "y_train = y_train[:,1] # Extract AAPL Only\n",
    "x_test = result[int(row):, :-1]\n",
    "y_test = result[int(row):, -1]\n",
    "y_test = y_test[:,1] # Extract AAPL Only\n",
    "\n",
    "# x_train = np.reshape(x_train, (1, x_train.shape[0], x_train.shape[1]))\n",
    "# x_test = np.reshape(x_test, (1, x_test.shape[0], x_test.shape[1]))  \n",
    "\n",
    "[x_train, y_train, x_test, y_test]"
   ]
  },
  {
   "cell_type": "code",
   "execution_count": 108,
   "metadata": {},
   "outputs": [
    {
     "name": "stderr",
     "output_type": "stream",
     "text": [
      "/usr/local/anaconda3/lib/python3.6/site-packages/ipykernel_launcher.py:7: UserWarning: The `input_dim` and `input_length` arguments in recurrent layers are deprecated. Use `input_shape` instead.\n",
      "  import sys\n",
      "/usr/local/anaconda3/lib/python3.6/site-packages/ipykernel_launcher.py:7: UserWarning: Update your `LSTM` call to the Keras 2 API: `LSTM(return_sequences=True, input_shape=(None, 198..., units=250)`\n",
      "  import sys\n"
     ]
    },
    {
     "name": "stdout",
     "output_type": "stream",
     "text": [
      "compilation time :  0.0317540168762207\n"
     ]
    },
    {
     "name": "stderr",
     "output_type": "stream",
     "text": [
      "/usr/local/anaconda3/lib/python3.6/site-packages/ipykernel_launcher.py:16: UserWarning: Update your `Dense` call to the Keras 2 API: `Dense(units=1)`\n",
      "  app.launch_new_instance()\n"
     ]
    }
   ],
   "source": [
    "LAYERS = 250\n",
    "model = Sequential()\n",
    "\n",
    "model.add(LSTM(\n",
    "    input_dim=data.shape[1],\n",
    "    output_dim=LAYERS,\n",
    "    return_sequences=True))\n",
    "model.add(Dropout(0.2))\n",
    "\n",
    "model.add(LSTM(\n",
    "    LAYERS,\n",
    "    return_sequences=False))\n",
    "model.add(Dropout(0.2))\n",
    "\n",
    "model.add(Dense(\n",
    "    output_dim=1))\n",
    "model.add(Activation('linear'))\n",
    "\n",
    "start = time.time()\n",
    "model.compile(loss='mae', optimizer='adam')\n",
    "print('compilation time : ', time.time() - start)"
   ]
  },
  {
   "cell_type": "code",
   "execution_count": 109,
   "metadata": {},
   "outputs": [
    {
     "name": "stderr",
     "output_type": "stream",
     "text": [
      "/usr/local/anaconda3/lib/python3.6/site-packages/keras/callbacks.py:1065: UserWarning: `epsilon` argument is deprecated and will be removed, use `min_delta` instead.\n",
      "  warnings.warn('`epsilon` argument is deprecated and '\n"
     ]
    }
   ],
   "source": [
    "MODELNAME = 'multiplemodeltest'\n",
    "earlyStopping = EarlyStopping(monitor='val_loss', patience=100, verbose=0, mode='min')\n",
    "mcp_save = ModelCheckpoint('./forecast/models/'+MODELNAME+'_best.hdf5', save_best_only=True, monitor='val_loss', mode='min')\n",
    "reduce_lr_loss = ReduceLROnPlateau(monitor='val_loss', factor=0.5, patience=20, verbose=1, epsilon=1e-4, mode='min')"
   ]
  },
  {
   "cell_type": "code",
   "execution_count": 110,
   "metadata": {},
   "outputs": [
    {
     "name": "stderr",
     "output_type": "stream",
     "text": [
      "/usr/local/anaconda3/lib/python3.6/site-packages/ipykernel_launcher.py:9: UserWarning: The `nb_epoch` argument in `fit` has been renamed `epochs`.\n",
      "  if __name__ == '__main__':\n"
     ]
    },
    {
     "name": "stdout",
     "output_type": "stream",
     "text": [
      "Train on 1949 samples, validate on 836 samples\n",
      "Epoch 1/20\n",
      "1949/1949 [==============================] - 5s 3ms/step - loss: 0.3747 - val_loss: 0.2816\n",
      "Epoch 2/20\n",
      "1949/1949 [==============================] - 1s 634us/step - loss: 0.2927 - val_loss: 0.0818\n",
      "Epoch 3/20\n",
      "1949/1949 [==============================] - 1s 619us/step - loss: 0.1809 - val_loss: 0.0741\n",
      "Epoch 4/20\n",
      "1949/1949 [==============================] - 1s 607us/step - loss: 0.1255 - val_loss: 0.1062\n",
      "Epoch 5/20\n",
      "1949/1949 [==============================] - 1s 637us/step - loss: 0.1043 - val_loss: 0.1037\n",
      "Epoch 6/20\n",
      "1949/1949 [==============================] - 1s 656us/step - loss: 0.1018 - val_loss: 0.0699\n",
      "Epoch 7/20\n",
      "1949/1949 [==============================] - 1s 689us/step - loss: 0.0899 - val_loss: 0.0376\n",
      "Epoch 8/20\n",
      "1949/1949 [==============================] - 1s 643us/step - loss: 0.0845 - val_loss: 0.0304\n",
      "Epoch 9/20\n",
      "1949/1949 [==============================] - 1s 629us/step - loss: 0.0724 - val_loss: 0.0408\n",
      "Epoch 10/20\n",
      "1949/1949 [==============================] - 1s 624us/step - loss: 0.0642 - val_loss: 0.0405\n",
      "Epoch 11/20\n",
      "1949/1949 [==============================] - 1s 596us/step - loss: 0.0631 - val_loss: 0.0340\n",
      "Epoch 12/20\n",
      "1949/1949 [==============================] - 1s 609us/step - loss: 0.0601 - val_loss: 0.0289\n",
      "Epoch 13/20\n",
      "1949/1949 [==============================] - 1s 634us/step - loss: 0.0568 - val_loss: 0.0256\n",
      "Epoch 14/20\n",
      "1949/1949 [==============================] - 1s 710us/step - loss: 0.0540 - val_loss: 0.0187\n",
      "Epoch 15/20\n",
      "1949/1949 [==============================] - 1s 631us/step - loss: 0.0492 - val_loss: 0.0199\n",
      "Epoch 16/20\n",
      "1949/1949 [==============================] - 1s 614us/step - loss: 0.0478 - val_loss: 0.0155\n",
      "Epoch 17/20\n",
      "1949/1949 [==============================] - 1s 715us/step - loss: 0.0459 - val_loss: 0.0196\n",
      "Epoch 18/20\n",
      "1949/1949 [==============================] - 1s 730us/step - loss: 0.0440 - val_loss: 0.0174\n",
      "Epoch 19/20\n",
      "1949/1949 [==============================] - 1s 628us/step - loss: 0.0430 - val_loss: 0.0183\n",
      "Epoch 20/20\n",
      "1949/1949 [==============================] - 1s 617us/step - loss: 0.0409 - val_loss: 0.0151\n"
     ]
    }
   ],
   "source": [
    "VALIDATIONSIZE = 0.3\n",
    "EPOCHS = 20\n",
    "history = model.fit(\n",
    "    x_train,\n",
    "    y_train,\n",
    "    batch_size=512,\n",
    "    nb_epoch=EPOCHS,\n",
    "    validation_split=VALIDATIONSIZE,\n",
    "    callbacks = [reduce_lr_loss, earlyStopping])"
   ]
  },
  {
   "cell_type": "code",
   "execution_count": 111,
   "metadata": {},
   "outputs": [
    {
     "data": {
      "text/plain": [
       "array([[-0.01848585],\n",
       "       [-0.03485039],\n",
       "       [ 0.00272982],\n",
       "       [-0.01377752],\n",
       "       [ 0.02222856]], dtype=float32)"
      ]
     },
     "execution_count": 111,
     "metadata": {},
     "output_type": "execute_result"
    }
   ],
   "source": [
    "# 5 refers to days of data. 5 days worth. each 1 row has 36 features\n",
    "model.predict(np.reshape(data[-5:], (5, 1, data.shape[1])))"
   ]
  },
  {
   "cell_type": "code",
   "execution_count": 112,
   "metadata": {},
   "outputs": [
    {
     "name": "stderr",
     "output_type": "stream",
     "text": [
      "No handles with labels found to put in legend.\n",
      "No handles with labels found to put in legend.\n",
      "No handles with labels found to put in legend.\n",
      "No handles with labels found to put in legend.\n",
      "No handles with labels found to put in legend.\n"
     ]
    },
    {
     "data": {
      "image/png": "[encoded data removed]",
      "text/plain": [
       "<Figure size 432x288 with 1 Axes>"
      ]
     },
     "metadata": {},
     "output_type": "display_data"
    }
   ],
   "source": [
    "import matplotlib.pyplot as plt\n",
    "def plot_results_multiple(predicted_data, true_data, prediction_len, suffix):\n",
    "    fig = plt.figure(facecolor='white')\n",
    "    ax = fig.add_subplot(111)\n",
    "    ax.plot(true_data)\n",
    "    #Pad the list of predictions to shift it in the graph to it's correct start\n",
    "    for i, data in enumerate(predicted_data):\n",
    "        padding = [0 for p in range(i * prediction_len)]\n",
    "        plt.plot(padding + data)\n",
    "        plt.legend()\n",
    "    plt.show()\n",
    "\n",
    "plot_results_multiple(model.predict(np.reshape(data[-5:], (5, 1, data.shape[1]))),\n",
    "                      model.predict(np.reshape(data[-5:], (5, 1, data.shape[1]))),\n",
    "                      5, 'k')"
   ]
  },
  {
   "cell_type": "code",
   "execution_count": 38,
   "metadata": {},
   "outputs": [
    {
     "data": {
      "text/plain": [
       "(2781, 6, 36)"
      ]
     },
     "execution_count": 38,
     "metadata": {},
     "output_type": "execute_result"
    }
   ],
   "source": []
  },
  {
   "cell_type": "code",
   "execution_count": null,
   "metadata": {},
   "outputs": [],
   "source": [
    "list(model.predict(np.reshape(ndata[-5:], (5, 1, 36))).reshape(1,-1)[0])"
   ]
  },
  {
   "cell_type": "code",
   "execution_count": 137,
   "metadata": {},
   "outputs": [
    {
     "data": {
      "text/plain": [
       "array([[ 0.00000000e+00,  1.17883232e-02, -2.22375450e-04, ...,\n",
       "         8.96353000e-02, -1.00000000e+00,  4.76084530e-02],\n",
       "       [ 0.00000000e+00,  6.14434935e-03, -2.63328944e-03, ...,\n",
       "         6.78077683e-02, -1.00000000e+00,  2.66228440e-02],\n",
       "       [ 0.00000000e+00,  3.50416119e-03, -5.03723171e-03, ...,\n",
       "         5.25624398e-02, -1.00000000e+00,  1.19655059e-02],\n",
       "       [ 0.00000000e+00,  3.94477309e-03, -5.04052148e-03, ...,\n",
       "         6.37738316e-02, -1.00000000e+00,  2.27444659e-02],\n",
       "       [ 0.00000000e+00,  9.76352788e-03, -2.16962465e-03, ...,\n",
       "         5.44586244e-02, -1.00000000e+00,  1.37885225e-02],\n",
       "       [ 0.00000000e+00,  3.87430056e-03, -4.30477840e-04, ...,\n",
       "         4.60611073e-02, -1.00000000e+00,  5.71489466e-03]])"
      ]
     },
     "execution_count": 137,
     "metadata": {},
     "output_type": "execute_result"
    }
   ],
   "source": [
    "train[0]"
   ]
  },
  {
   "cell_type": "code",
   "execution_count": 129,
   "metadata": {},
   "outputs": [
    {
     "data": {
      "text/plain": [
       "array([1.        , 0.31870311, 0.        , 0.05318726, 0.75558236,\n",
       "       0.04468036])"
      ]
     },
     "execution_count": 129,
     "metadata": {},
     "output_type": "execute_result"
    }
   ],
   "source": [
    "wind = 30\n",
    "(train[0][0:wind,1] - min(train[0][0:wind,1])) / (max(train[0][0:wind,1]) - min(train[0][0:wind,1]))"
   ]
  },
  {
   "cell_type": "code",
   "execution_count": 133,
   "metadata": {},
   "outputs": [
    {
     "data": {
      "text/plain": [
       "2785"
      ]
     },
     "execution_count": 133,
     "metadata": {},
     "output_type": "execute_result"
    }
   ],
   "source": [
    "row"
   ]
  },
  {
   "cell_type": "code",
   "execution_count": null,
   "metadata": {
    "collapsed": true
   },
   "outputs": [],
   "source": []
  }
 ],
 "metadata": {
  "kernelspec": {
   "display_name": "Python 3",
   "language": "python",
   "name": "python3"
  },
  "language_info": {
   "codemirror_mode": {
    "name": "ipython",
    "version": 3
   },
   "file_extension": ".py",
   "mimetype": "text/x-python",
   "name": "python",
   "nbconvert_exporter": "python",
   "pygments_lexer": "ipython3",
   "version": "3.6.7"
  }
 },
 "nbformat": 4,
 "nbformat_minor": 2
}
